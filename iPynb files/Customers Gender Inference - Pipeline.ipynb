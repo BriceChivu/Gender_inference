{
 "cells": [
  {
   "cell_type": "markdown",
   "metadata": {},
   "source": [
    "# Customers Gender Inference - ML models"
   ]
  },
  {
   "cell_type": "markdown",
   "metadata": {},
   "source": [
    "This Jupyter Notebook focuses on the predictive model and the labels output"
   ]
  },
  {
   "cell_type": "code",
   "execution_count": 1,
   "metadata": {},
   "outputs": [],
   "source": [
    "# Import libraries\n",
    "\n",
    "import pandas as pd\n",
    "import numpy as np\n",
    "from scipy import stats\n",
    "pd.set_option('display.max_columns', None)\n",
    "\n",
    "import plotly.express as px\n",
    "import seaborn as sns\n",
    "import matplotlib.pyplot as plt\n",
    "%matplotlib inline\n",
    "\n",
    "from collections import defaultdict\n",
    "\n",
    "\n",
    "from sklearn.cluster import KMeans\n",
    "from sklearn import metrics\n",
    "from sklearn.preprocessing import StandardScaler\n",
    "from sklearn.preprocessing import MinMaxScaler\n",
    "from sklearn.model_selection import train_test_split\n",
    "from sklearn.metrics import accuracy_score\n",
    "from sklearn.linear_model import LogisticRegression\n",
    "from sklearn.cluster import KMeans\n",
    "from sklearn.neighbors import KNeighborsClassifier\n",
    "from sklearn.linear_model import SGDClassifier\n",
    "from sklearn.ensemble import RandomForestClassifier\n",
    "from sklearn.naive_bayes import GaussianNB\n",
    "from sklearn.svm import SVC\n",
    "from sklearn.base import BaseEstimator, TransformerMixin\n",
    "from sklearn.pipeline import make_pipeline\n",
    "from sklearn.feature_selection import RFECV"
   ]
  },
  {
   "cell_type": "code",
   "execution_count": 2,
   "metadata": {},
   "outputs": [],
   "source": [
    "# Read the json file provided on the github page\n",
    "\n",
    "df_json = pd.read_json('data.json', orient='record')"
   ]
  },
  {
   "cell_type": "code",
   "execution_count": 3,
   "metadata": {},
   "outputs": [],
   "source": [
    "# Create the dataframe\n",
    "\n",
    "df_raw = pd.read_json(df_json.iloc[0,0], orient='record')"
   ]
  },
  {
   "cell_type": "markdown",
   "metadata": {},
   "source": [
    "## Creating the pipeline"
   ]
  },
  {
   "cell_type": "code",
   "execution_count": 4,
   "metadata": {},
   "outputs": [],
   "source": [
    "def Clean_data(df_raw=df_raw):\n",
    "    \n",
    "    '''Transform df_raw into df_cleaned'''\n",
    "    \n",
    "    global df_cleaned\n",
    "    \n",
    "    df_cleaned = df_raw.copy()\n",
    "    \n",
    "    # Replace the negative 'revenue' value by 0\n",
    "    df_cleaned.loc[df_cleaned['revenue']<0,'revenue'] = 0\n",
    "\n",
    "    # Replace each 'revenue' having 0 by the median of revenue for its specific number of items (1 to 13)\n",
    "    for i in df_cleaned.loc[df_cleaned['revenue']==0,'items'].value_counts().index:  \n",
    "        replace = df_cleaned.loc[df_cleaned['revenue'] != 0].groupby('items')['revenue'].median()[i]\n",
    "        df_cleaned.loc[(df_cleaned['revenue']==0) & (df_cleaned['items']==i),'revenue'] = replace\n",
    "\n",
    "    # Convert 'is_newsletter_subscriber' into 1 or 0 (1='Yes', 0 ='No').\n",
    "    df_cleaned['is_newsletter_subscriber'] = np.where(df_cleaned['is_newsletter_subscriber']=='Y',1,0)\n",
    "\n",
    "    # Create another feature for the average of revenue spend per item\n",
    "    df_cleaned['avg_revenue_per_item'] = df_cleaned['revenue']/df_cleaned['items']\n",
    "    \n",
    "    # Create another feature for the number of returns\n",
    "    df_cleaned['returns_per_item'] = df_cleaned['returns']*100/df_cleaned['items']\n",
    "\n",
    "    # Create another feature for the number of items per order\n",
    "    df_cleaned['items_per_order'] = df_cleaned['items']/df_cleaned['orders']\n",
    "\n",
    "    # Create another feature for the online orders\n",
    "    df_cleaned['online_orders'] = (df_cleaned['msite_orders'] + df_cleaned['desktop_orders'] + df_cleaned['android_orders'] + df_cleaned['ios_orders'])/ df_cleaned['orders']\n",
    "\n",
    "    # Create another feature for the shipped items\n",
    "    df_cleaned['shipped_items'] = (df_cleaned['work_orders'] + df_cleaned['home_orders'] + df_cleaned['parcelpoint_orders'])/ df_cleaned['orders']\n",
    "\n",
    "    # Create another feature for female items\n",
    "    df_cleaned['f_items'] = df_cleaned['female_items'] + df_cleaned['wapp_items'] + df_cleaned['wacc_items'] + df_cleaned['wftw_items']\n",
    "\n",
    "    # Create another feature for male items\n",
    "    df_cleaned['m_items'] = df_cleaned['male_items'] + df_cleaned['mapp_items'] + df_cleaned['macc_items'] + df_cleaned['mftw_items']\n",
    "\n",
    "    # Create another feature for the sum of payment method\n",
    "    df_cleaned['electronic_payment'] = (df_cleaned['cc_payments'] + df_cleaned['paypal_payments'] + df_cleaned['afterpay_payments'])/ df_cleaned['orders']\n",
    "        \n",
    "    df_cleaned = df_cleaned[['days_since_last_order', 'orders', 'avg_revenue_per_item', 'f_items','m_items','returns_per_item']]\n"
   ]
  },
  {
   "cell_type": "code",
   "execution_count": 5,
   "metadata": {},
   "outputs": [],
   "source": [
    "def Create_X_y(df_cleaned, m=10, r=4):    \n",
    "    \n",
    "    '''Create X and y to fit the machine learning model'''\n",
    "    \n",
    "    global X_\n",
    "    \n",
    "    X_ = df_cleaned.copy()\n",
    "    \n",
    "    # Keep only obvious records which we can guess the label\n",
    "    X_ = df_cleaned.loc[(df_cleaned['m_items']+df_cleaned['f_items']>=m) & (df_cleaned[['f_items','m_items']].max(axis=1)/df_cleaned[['f_items','m_items']].min(axis=1)>=r)]\n",
    "\n",
    "    # Remove outliers\n",
    "    X_ = X_.loc[(np.abs(stats.zscore(X_))<3).all(axis=1)]\n",
    "    \n",
    "    # Assign labels\n",
    "    X_.loc[df_cleaned['f_items']/X_['m_items']>= r,'label_created'] = 1\n",
    "    X_.loc[df_cleaned['m_items']/X_['f_items']>= r,'label_created'] = 0\n",
    "\n",
    "    # Balance male and female\n",
    "    remove_sample = X_['label_created'].value_counts().max() - X_['label_created'].value_counts().min()\n",
    "    drop_indices = np.random.choice(X_.loc[X_['label_created']==X_['label_created'].value_counts().index[0]].index, remove_sample, replace=False)\n",
    "    X_ = X_.drop(drop_indices)         \n",
    "    \n",
    "    # Define y_ as the column of labels\n",
    "    global y_\n",
    "    y_ = X_['label_created'].values\n",
    "    \n",
    "    # Drop labels for X_\n",
    "    X_.drop('label_created',axis=1, inplace=True)\n",
    "    \n",
    "    # Trying to normalize our data\n",
    "    X_ = np.sqrt(X_.astype('float'))\n",
    "    X_ = X_.values\n"
   ]
  },
  {
   "cell_type": "code",
   "execution_count": 6,
   "metadata": {},
   "outputs": [],
   "source": [
    "def predict(df_cleaned):\n",
    "    \n",
    "    '''Predict labels'''\n",
    "    \n",
    "    global df_predicted\n",
    "\n",
    "    labels = pd.Series(pipe.predict(df_cleaned), name='label')\n",
    "    df_predicted = pd.concat([df_raw,labels], axis=1)\n",
    "    df_predicted = pd.concat([df_cleaned[['avg_revenue_per_item','f_items','m_items','returns_per_item']],df_predicted], axis=1)\n",
    "    "
   ]
  },
  {
   "cell_type": "code",
   "execution_count": 7,
   "metadata": {},
   "outputs": [],
   "source": [
    "# Let's use SVC\n",
    "\n",
    "pipe = make_pipeline(StandardScaler(), SVC(kernel='linear'))"
   ]
  },
  {
   "cell_type": "markdown",
   "metadata": {},
   "source": [
    "## Predicting labels"
   ]
  },
  {
   "cell_type": "code",
   "execution_count": 8,
   "metadata": {},
   "outputs": [],
   "source": [
    "Clean_data() # --> Transform df_raw into df_cleaned\n",
    "Create_X_y(df_cleaned) # --> Create X_ and y_ \n",
    "pipe.fit(X_, y_) # --> Use X_ and y_ to fit the model\n",
    "predict(df_cleaned) # --> apply to model to df_cleaned to predict labels"
   ]
  },
  {
   "cell_type": "markdown",
   "metadata": {},
   "source": [
    "## Exporting output file"
   ]
  },
  {
   "cell_type": "code",
   "execution_count": 9,
   "metadata": {},
   "outputs": [
    {
     "data": {
      "text/html": [
       "<div>\n",
       "<style scoped>\n",
       "    .dataframe tbody tr th:only-of-type {\n",
       "        vertical-align: middle;\n",
       "    }\n",
       "\n",
       "    .dataframe tbody tr th {\n",
       "        vertical-align: top;\n",
       "    }\n",
       "\n",
       "    .dataframe thead th {\n",
       "        text-align: right;\n",
       "    }\n",
       "</style>\n",
       "<table border=\"1\" class=\"dataframe\">\n",
       "  <thead>\n",
       "    <tr style=\"text-align: right;\">\n",
       "      <th></th>\n",
       "      <th>customer_id</th>\n",
       "      <th>female_flag</th>\n",
       "    </tr>\n",
       "  </thead>\n",
       "  <tbody>\n",
       "    <tr>\n",
       "      <th>0</th>\n",
       "      <td>3.017001e+09</td>\n",
       "      <td>0.0</td>\n",
       "    </tr>\n",
       "    <tr>\n",
       "      <th>1</th>\n",
       "      <td>3.017108e+09</td>\n",
       "      <td>1.0</td>\n",
       "    </tr>\n",
       "    <tr>\n",
       "      <th>2</th>\n",
       "      <td>3.017126e+09</td>\n",
       "      <td>1.0</td>\n",
       "    </tr>\n",
       "    <tr>\n",
       "      <th>3</th>\n",
       "      <td>3.017185e+09</td>\n",
       "      <td>1.0</td>\n",
       "    </tr>\n",
       "    <tr>\n",
       "      <th>4</th>\n",
       "      <td>3.017193e+09</td>\n",
       "      <td>0.0</td>\n",
       "    </tr>\n",
       "    <tr>\n",
       "      <th>...</th>\n",
       "      <td>...</td>\n",
       "      <td>...</td>\n",
       "    </tr>\n",
       "    <tr>\n",
       "      <th>191282</th>\n",
       "      <td>3.706982e+09</td>\n",
       "      <td>1.0</td>\n",
       "    </tr>\n",
       "    <tr>\n",
       "      <th>191283</th>\n",
       "      <td>3.706984e+09</td>\n",
       "      <td>1.0</td>\n",
       "    </tr>\n",
       "    <tr>\n",
       "      <th>191284</th>\n",
       "      <td>3.706994e+09</td>\n",
       "      <td>0.0</td>\n",
       "    </tr>\n",
       "    <tr>\n",
       "      <th>191285</th>\n",
       "      <td>3.706998e+09</td>\n",
       "      <td>0.0</td>\n",
       "    </tr>\n",
       "    <tr>\n",
       "      <th>191286</th>\n",
       "      <td>3.707002e+09</td>\n",
       "      <td>0.0</td>\n",
       "    </tr>\n",
       "  </tbody>\n",
       "</table>\n",
       "<p>191287 rows × 2 columns</p>\n",
       "</div>"
      ],
      "text/plain": [
       "         customer_id  female_flag\n",
       "0       3.017001e+09          0.0\n",
       "1       3.017108e+09          1.0\n",
       "2       3.017126e+09          1.0\n",
       "3       3.017185e+09          1.0\n",
       "4       3.017193e+09          0.0\n",
       "...              ...          ...\n",
       "191282  3.706982e+09          1.0\n",
       "191283  3.706984e+09          1.0\n",
       "191284  3.706994e+09          0.0\n",
       "191285  3.706998e+09          0.0\n",
       "191286  3.707002e+09          0.0\n",
       "\n",
       "[191287 rows x 2 columns]"
      ]
     },
     "execution_count": 9,
     "metadata": {},
     "output_type": "execute_result"
    }
   ],
   "source": [
    "output = df_predicted[['customer_id','label']].copy()\n",
    "output.rename(columns={'label':'female_flag'}, inplace=True)\n",
    "output"
   ]
  },
  {
   "cell_type": "code",
   "execution_count": 10,
   "metadata": {},
   "outputs": [],
   "source": [
    "output.to_csv('/Users/brice/Desktop/GFG_output.csv', index = None)"
   ]
  },
  {
   "cell_type": "markdown",
   "metadata": {},
   "source": [
    "---------------------END---------------------"
   ]
  },
  {
   "cell_type": "markdown",
   "metadata": {},
   "source": [
    "Thanks a lot for reading"
   ]
  }
 ],
 "metadata": {
  "kernelspec": {
   "display_name": "Python 3",
   "language": "python",
   "name": "python3"
  },
  "language_info": {
   "codemirror_mode": {
    "name": "ipython",
    "version": 3
   },
   "file_extension": ".py",
   "mimetype": "text/x-python",
   "name": "python",
   "nbconvert_exporter": "python",
   "pygments_lexer": "ipython3",
   "version": "3.7.7"
  }
 },
 "nbformat": 4,
 "nbformat_minor": 4
}
